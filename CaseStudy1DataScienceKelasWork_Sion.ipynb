{
  "nbformat": 4,
  "nbformat_minor": 0,
  "metadata": {
    "colab": {
      "provenance": []
    },
    "kernelspec": {
      "name": "python3",
      "display_name": "Python 3"
    },
    "language_info": {
      "name": "python"
    }
  },
  "cells": [
    {
      "cell_type": "markdown",
      "source": [
        "Case Study 01: Sales Force Training\n",
        "\n",
        "Perusahaan X ingin meningkatkan penjualan mereka. Dari data penjualan sebelumnya menunjukkan bahwa penjualan rata-rata yaitu $100 per transaksi. Setelah melakukan training kepada pekerja sales, data penjualan terbaru (yang diambil dari 25 sampel pekerja sales) tersimpan dalam tabel"
      ],
      "metadata": {
        "id": "M4cIlhl38Am1"
      }
    },
    {
      "cell_type": "code",
      "source": [
        "import pandas as pd\n",
        "import numpy as np\n",
        "import statistics\n",
        "import scipy.stats as stats"
      ],
      "metadata": {
        "id": "438Si-kh8fno"
      },
      "execution_count": null,
      "outputs": []
    },
    {
      "cell_type": "code",
      "source": [
        "# 1. Creating a Data Frame\n",
        "TransactionsAmount = np.array ([100, 150, 50, 100, 130, 120, 100, 85, 70, 150,\n",
        "                                   150, 120, 50, 100, 100, 140, 90, 150, 50, 90,\n",
        "                                   120, 100, 110, 75, 65])\n",
        "\n",
        "TransactionsAmount"
      ],
      "metadata": {
        "colab": {
          "base_uri": "https://localhost:8080/"
        },
        "id": "Hy2gsLu68nNM",
        "outputId": "67b3d5ed-348c-48cd-a609-958d81198acc"
      },
      "execution_count": null,
      "outputs": [
        {
          "output_type": "execute_result",
          "data": {
            "text/plain": [
              "array([100, 150,  50, 100, 130, 120, 100,  85,  70, 150, 150, 120,  50,\n",
              "       100, 100, 140,  90, 150,  50,  90, 120, 100, 110,  75,  65])"
            ]
          },
          "metadata": {},
          "execution_count": 2
        }
      ]
    },
    {
      "cell_type": "code",
      "source": [
        "# 2. Analisis Measure of Tendency\n",
        "print(\"Mean = \",statistics.mean(TransactionsAmount))\n",
        "print(\"Median = \",statistics.median(TransactionsAmount))\n",
        "print(\"Modus = \",statistics.mode(TransactionsAmount))"
      ],
      "metadata": {
        "colab": {
          "base_uri": "https://localhost:8080/"
        },
        "id": "Eol6fgEt8ug4",
        "outputId": "ffab6e51-67c2-4481-afd9-44b2e4e7e59c"
      },
      "execution_count": null,
      "outputs": [
        {
          "output_type": "stream",
          "name": "stdout",
          "text": [
            "Mean =  102\n",
            "Median =  100\n",
            "Modus =  100\n"
          ]
        }
      ]
    },
    {
      "cell_type": "code",
      "source": [
        "# 3. Analisis Measure of Variability\n",
        "\n",
        "print(\"Variance = \",np.var(TransactionsAmount))\n",
        "print(\"Standard Deviation = \",np.std(TransactionsAmount))\n",
        "print(\"Range = \",np.max(TransactionsAmount) - np.min(TransactionsAmount))\n",
        "print(\"1st quantile = \",np.quantile(TransactionsAmount, 0.25))\n",
        "print(\"2nd quantile = \",np.quantile(TransactionsAmount, 0.5))\n",
        "print(\"3rd quantile = \",np.quantile(TransactionsAmount, 0.75))"
      ],
      "metadata": {
        "colab": {
          "base_uri": "https://localhost:8080/"
        },
        "id": "K3vJXRlL9F9A",
        "outputId": "9b44b09c-c726-4033-c6a1-44b9ed4b4aba"
      },
      "execution_count": null,
      "outputs": [
        {
          "output_type": "stream",
          "name": "stdout",
          "text": [
            "Variance =  972.2399999999999\n",
            "Standard Deviation =  31.18076330047101\n",
            "Range =  100\n",
            "1st quantile =  85.0\n",
            "2nd quantile =  100.0\n",
            "3rd quantile =  120.0\n"
          ]
        }
      ]
    },
    {
      "cell_type": "markdown",
      "source": [
        "4. Define H0 dan H1\n",
        "\n",
        "H0 : The Average of the 25 days transactions amount = 100\n",
        "\n",
        "H1 : The Average of the 25 days transactions amount > 100\n",
        "\n",
        "5. Define T-Test, alpha = 0.05\n",
        "Calculate t statistic and p value\n"
      ],
      "metadata": {
        "id": "8-6pwXI39qSW"
      }
    },
    {
      "cell_type": "code",
      "source": [
        "stats.ttest_1samp (a = TransactionsAmount, popmean = 100)"
      ],
      "metadata": {
        "colab": {
          "base_uri": "https://localhost:8080/"
        },
        "id": "2nYcy1Zd9oxY",
        "outputId": "63e8e8b5-9c38-4136-cb3e-d0fe7434db3e"
      },
      "execution_count": null,
      "outputs": [
        {
          "output_type": "execute_result",
          "data": {
            "text/plain": [
              "TtestResult(statistic=0.4085001556802841, pvalue=0.6865284813438117, df=24)"
            ]
          },
          "metadata": {},
          "execution_count": 8
        }
      ]
    },
    {
      "cell_type": "markdown",
      "source": [
        "statistic = 0.4085001556802841 and pvalue = 0.6865284813438117"
      ],
      "metadata": {
        "id": "TQjoONtY95mG"
      }
    },
    {
      "cell_type": "code",
      "source": [
        "# H1: Larger (right side)\n",
        "stats.t.ppf(1-0.05, 24)"
      ],
      "metadata": {
        "colab": {
          "base_uri": "https://localhost:8080/"
        },
        "id": "lkQYeCgX-I59",
        "outputId": "5eb3ef43-ac86-4a6c-b258-c46ceb12e6c1"
      },
      "execution_count": null,
      "outputs": [
        {
          "output_type": "execute_result",
          "data": {
            "text/plain": [
              "1.7108820799094275"
            ]
          },
          "metadata": {},
          "execution_count": 9
        }
      ]
    },
    {
      "cell_type": "markdown",
      "source": [
        "Critical region: t > 1,71\n",
        "t is not in cirital region, so we fail to reject H0\n",
        "\n",
        "H0 is right: The Average of the 25 days transactions amount is still at 100"
      ],
      "metadata": {
        "id": "-ZwET-kD-LRm"
      }
    }
  ]
}